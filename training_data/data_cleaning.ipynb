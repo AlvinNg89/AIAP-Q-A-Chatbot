{
 "cells": [
  {
   "cell_type": "code",
   "execution_count": 1,
   "metadata": {},
   "outputs": [],
   "source": [
    "import pandas as pd "
   ]
  },
  {
   "cell_type": "code",
   "execution_count": 10,
   "metadata": {},
   "outputs": [],
   "source": [
    "df = pd.read_csv('training_data/augmented_data.csv', index_col=0)"
   ]
  },
  {
   "cell_type": "code",
   "execution_count": 11,
   "metadata": {},
   "outputs": [
    {
     "data": {
      "text/html": [
       "<div>\n",
       "<style scoped>\n",
       "    .dataframe tbody tr th:only-of-type {\n",
       "        vertical-align: middle;\n",
       "    }\n",
       "\n",
       "    .dataframe tbody tr th {\n",
       "        vertical-align: top;\n",
       "    }\n",
       "\n",
       "    .dataframe thead th {\n",
       "        text-align: right;\n",
       "    }\n",
       "</style>\n",
       "<table border=\"1\" class=\"dataframe\">\n",
       "  <thead>\n",
       "    <tr style=\"text-align: right;\">\n",
       "      <th></th>\n",
       "      <th>question</th>\n",
       "      <th>answers</th>\n",
       "    </tr>\n",
       "  </thead>\n",
       "  <tbody>\n",
       "    <tr>\n",
       "      <th>0</th>\n",
       "      <td>What are the differences between 100 Experimen...</td>\n",
       "      <td>\\n\\n\\n\\n \\n100E4I\\n100E4R\\n\\n\\n\\nCollaboration...</td>\n",
       "    </tr>\n",
       "    <tr>\n",
       "      <th>1</th>\n",
       "      <td>What are the differences between 100 experimen...</td>\n",
       "      <td>100E4I\\n100E4R\\n\\n\\n\\nDuration of cooperation\\...</td>\n",
       "    </tr>\n",
       "    <tr>\n",
       "      <th>2</th>\n",
       "      <td>How does an organisation apply for the 100 Exp...</td>\n",
       "      <td>\\nAISG will provide the templates for an organ...</td>\n",
       "    </tr>\n",
       "    <tr>\n",
       "      <th>3</th>\n",
       "      <td>How does an organization apply for the 100 Exp...</td>\n",
       "      <td>AISG provides templates for organizations to s...</td>\n",
       "    </tr>\n",
       "    <tr>\n",
       "      <th>4</th>\n",
       "      <td>What are my responsibilities as a Project Spon...</td>\n",
       "      <td>\\nTo ensure a successful outcome from the 100E...</td>\n",
       "    </tr>\n",
       "  </tbody>\n",
       "</table>\n",
       "</div>"
      ],
      "text/plain": [
       "                                            question  \\\n",
       "0  What are the differences between 100 Experimen...   \n",
       "1  What are the differences between 100 experimen...   \n",
       "2  How does an organisation apply for the 100 Exp...   \n",
       "3  How does an organization apply for the 100 Exp...   \n",
       "4  What are my responsibilities as a Project Spon...   \n",
       "\n",
       "                                             answers  \n",
       "0  \\n\\n\\n\\n \\n100E4I\\n100E4R\\n\\n\\n\\nCollaboration...  \n",
       "1  100E4I\\n100E4R\\n\\n\\n\\nDuration of cooperation\\...  \n",
       "2  \\nAISG will provide the templates for an organ...  \n",
       "3  AISG provides templates for organizations to s...  \n",
       "4  \\nTo ensure a successful outcome from the 100E...  "
      ]
     },
     "execution_count": 11,
     "metadata": {},
     "output_type": "execute_result"
    }
   ],
   "source": [
    "df.head()"
   ]
  },
  {
   "cell_type": "code",
   "execution_count": 12,
   "metadata": {},
   "outputs": [],
   "source": [
    "df['answers'] = df['answers'].replace(r'\\n', ' ', regex=True)"
   ]
  },
  {
   "cell_type": "code",
   "execution_count": 13,
   "metadata": {},
   "outputs": [
    {
     "data": {
      "text/html": [
       "<div>\n",
       "<style scoped>\n",
       "    .dataframe tbody tr th:only-of-type {\n",
       "        vertical-align: middle;\n",
       "    }\n",
       "\n",
       "    .dataframe tbody tr th {\n",
       "        vertical-align: top;\n",
       "    }\n",
       "\n",
       "    .dataframe thead th {\n",
       "        text-align: right;\n",
       "    }\n",
       "</style>\n",
       "<table border=\"1\" class=\"dataframe\">\n",
       "  <thead>\n",
       "    <tr style=\"text-align: right;\">\n",
       "      <th></th>\n",
       "      <th>question</th>\n",
       "      <th>answers</th>\n",
       "    </tr>\n",
       "  </thead>\n",
       "  <tbody>\n",
       "    <tr>\n",
       "      <th>0</th>\n",
       "      <td>What are the differences between 100 Experimen...</td>\n",
       "      <td>100E4I 100E4R    Collaboration duration ...</td>\n",
       "    </tr>\n",
       "    <tr>\n",
       "      <th>1</th>\n",
       "      <td>What are the differences between 100 experimen...</td>\n",
       "      <td>100E4I 100E4R    Duration of cooperation    9 ...</td>\n",
       "    </tr>\n",
       "    <tr>\n",
       "      <th>2</th>\n",
       "      <td>How does an organisation apply for the 100 Exp...</td>\n",
       "      <td>AISG will provide the templates for an organi...</td>\n",
       "    </tr>\n",
       "    <tr>\n",
       "      <th>3</th>\n",
       "      <td>How does an organization apply for the 100 Exp...</td>\n",
       "      <td>AISG provides templates for organizations to s...</td>\n",
       "    </tr>\n",
       "    <tr>\n",
       "      <th>4</th>\n",
       "      <td>What are my responsibilities as a Project Spon...</td>\n",
       "      <td>To ensure a successful outcome from the 100E ...</td>\n",
       "    </tr>\n",
       "  </tbody>\n",
       "</table>\n",
       "</div>"
      ],
      "text/plain": [
       "                                            question  \\\n",
       "0  What are the differences between 100 Experimen...   \n",
       "1  What are the differences between 100 experimen...   \n",
       "2  How does an organisation apply for the 100 Exp...   \n",
       "3  How does an organization apply for the 100 Exp...   \n",
       "4  What are my responsibilities as a Project Spon...   \n",
       "\n",
       "                                             answers  \n",
       "0        100E4I 100E4R    Collaboration duration ...  \n",
       "1  100E4I 100E4R    Duration of cooperation    9 ...  \n",
       "2   AISG will provide the templates for an organi...  \n",
       "3  AISG provides templates for organizations to s...  \n",
       "4   To ensure a successful outcome from the 100E ...  "
      ]
     },
     "execution_count": 13,
     "metadata": {},
     "output_type": "execute_result"
    }
   ],
   "source": [
    "df.head()"
   ]
  },
  {
   "cell_type": "code",
   "execution_count": 24,
   "metadata": {},
   "outputs": [],
   "source": [
    "df = df.drop(index = [0,1,24,25,26,27,28,29,98,99,104,105,198,199])"
   ]
  },
  {
   "cell_type": "code",
   "execution_count": 25,
   "metadata": {},
   "outputs": [],
   "source": [
    "for col in df.columns:\n",
    "    df[col] = df[col].apply(lambda x: x.strip().strip('\"'))"
   ]
  },
  {
   "cell_type": "code",
   "execution_count": 26,
   "metadata": {},
   "outputs": [],
   "source": [
    "df['question'].to_csv('training_data/training.source')\n",
    "df['answers'].to_csv('training_data/training.target')"
   ]
  },
  {
   "cell_type": "code",
   "execution_count": null,
   "metadata": {},
   "outputs": [],
   "source": []
  }
 ],
 "metadata": {
  "kernelspec": {
   "display_name": "aiap-mini-project",
   "language": "python",
   "name": "python3"
  },
  "language_info": {
   "codemirror_mode": {
    "name": "ipython",
    "version": 3
   },
   "file_extension": ".py",
   "mimetype": "text/x-python",
   "name": "python",
   "nbconvert_exporter": "python",
   "pygments_lexer": "ipython3",
   "version": "3.10.10"
  },
  "orig_nbformat": 4
 },
 "nbformat": 4,
 "nbformat_minor": 2
}
